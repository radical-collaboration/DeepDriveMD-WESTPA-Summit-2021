{
 "cells": [
  {
   "cell_type": "code",
   "execution_count": 111,
   "id": "9e665dbe",
   "metadata": {},
   "outputs": [],
   "source": [
    "import pandas as pd\n",
    "%matplotlib inline\n",
    "import matplotlib.pyplot as plt"
   ]
  },
  {
   "cell_type": "markdown",
   "id": "b106254b",
   "metadata": {},
   "source": [
    "# deepdrivemd performance"
   ]
  },
  {
   "cell_type": "code",
   "execution_count": 97,
   "id": "07f601d4",
   "metadata": {},
   "outputs": [],
   "source": [
    "df=pd.read_csv('inference.csv',names=['id','step','start_time','elapsed_time'])"
   ]
  },
  {
   "cell_type": "code",
   "execution_count": 98,
   "id": "e15c07ab",
   "metadata": {},
   "outputs": [
    {
     "data": {
      "text/html": [
       "<div>\n",
       "<style scoped>\n",
       "    .dataframe tbody tr th:only-of-type {\n",
       "        vertical-align: middle;\n",
       "    }\n",
       "\n",
       "    .dataframe tbody tr th {\n",
       "        vertical-align: top;\n",
       "    }\n",
       "\n",
       "    .dataframe thead th {\n",
       "        text-align: right;\n",
       "    }\n",
       "</style>\n",
       "<table border=\"1\" class=\"dataframe\">\n",
       "  <thead>\n",
       "    <tr style=\"text-align: right;\">\n",
       "      <th></th>\n",
       "      <th>id</th>\n",
       "      <th>step</th>\n",
       "      <th>start_time</th>\n",
       "      <th>elapsed_time</th>\n",
       "    </tr>\n",
       "  </thead>\n",
       "  <tbody>\n",
       "    <tr>\n",
       "      <th>0</th>\n",
       "      <td>0</td>\n",
       "      <td>Start preprocess_pdb</td>\n",
       "      <td>1.633661e+09</td>\n",
       "      <td>0.000000</td>\n",
       "    </tr>\n",
       "    <tr>\n",
       "      <th>1</th>\n",
       "      <td>0</td>\n",
       "      <td>Start preprocess_traj</td>\n",
       "      <td>1.633662e+09</td>\n",
       "      <td>17.597987</td>\n",
       "    </tr>\n",
       "    <tr>\n",
       "      <th>2</th>\n",
       "      <td>0</td>\n",
       "      <td>Start concatenate</td>\n",
       "      <td>1.633662e+09</td>\n",
       "      <td>12.332462</td>\n",
       "    </tr>\n",
       "    <tr>\n",
       "      <th>3</th>\n",
       "      <td>0</td>\n",
       "      <td>Start write_h5</td>\n",
       "      <td>1.633662e+09</td>\n",
       "      <td>0.000073</td>\n",
       "    </tr>\n",
       "    <tr>\n",
       "      <th>4</th>\n",
       "      <td>0</td>\n",
       "      <td>Start generate_embeddings</td>\n",
       "      <td>1.633662e+09</td>\n",
       "      <td>0.001950</td>\n",
       "    </tr>\n",
       "    <tr>\n",
       "      <th>...</th>\n",
       "      <td>...</td>\n",
       "      <td>...</td>\n",
       "      <td>...</td>\n",
       "      <td>...</td>\n",
       "    </tr>\n",
       "    <tr>\n",
       "      <th>48947</th>\n",
       "      <td>6119</td>\n",
       "      <td>Start write_h5</td>\n",
       "      <td>1.633662e+09</td>\n",
       "      <td>0.000060</td>\n",
       "    </tr>\n",
       "    <tr>\n",
       "      <th>48948</th>\n",
       "      <td>6119</td>\n",
       "      <td>Start generate_embeddings</td>\n",
       "      <td>1.633662e+09</td>\n",
       "      <td>0.001772</td>\n",
       "    </tr>\n",
       "    <tr>\n",
       "      <th>48949</th>\n",
       "      <td>6119</td>\n",
       "      <td>Start unlink h5</td>\n",
       "      <td>1.633662e+09</td>\n",
       "      <td>2.309940</td>\n",
       "    </tr>\n",
       "    <tr>\n",
       "      <th>48950</th>\n",
       "      <td>6119</td>\n",
       "      <td>Start savetxt</td>\n",
       "      <td>1.633662e+09</td>\n",
       "      <td>0.000058</td>\n",
       "    </tr>\n",
       "    <tr>\n",
       "      <th>48951</th>\n",
       "      <td>6119</td>\n",
       "      <td>Done</td>\n",
       "      <td>1.633662e+09</td>\n",
       "      <td>0.000454</td>\n",
       "    </tr>\n",
       "  </tbody>\n",
       "</table>\n",
       "<p>48952 rows × 4 columns</p>\n",
       "</div>"
      ],
      "text/plain": [
       "         id                       step    start_time  elapsed_time\n",
       "0         0       Start preprocess_pdb  1.633661e+09      0.000000\n",
       "1         0      Start preprocess_traj  1.633662e+09     17.597987\n",
       "2         0          Start concatenate  1.633662e+09     12.332462\n",
       "3         0             Start write_h5  1.633662e+09      0.000073\n",
       "4         0  Start generate_embeddings  1.633662e+09      0.001950\n",
       "...     ...                        ...           ...           ...\n",
       "48947  6119             Start write_h5  1.633662e+09      0.000060\n",
       "48948  6119  Start generate_embeddings  1.633662e+09      0.001772\n",
       "48949  6119            Start unlink h5  1.633662e+09      2.309940\n",
       "48950  6119              Start savetxt  1.633662e+09      0.000058\n",
       "48951  6119                       Done  1.633662e+09      0.000454\n",
       "\n",
       "[48952 rows x 4 columns]"
      ]
     },
     "execution_count": 98,
     "metadata": {},
     "output_type": "execute_result"
    }
   ],
   "source": [
    "df"
   ]
  },
  {
   "cell_type": "code",
   "execution_count": 99,
   "id": "35801291",
   "metadata": {},
   "outputs": [],
   "source": [
    "timing = df[df['step']=='Start preprocess_traj']"
   ]
  },
  {
   "cell_type": "code",
   "execution_count": 100,
   "id": "373d941a",
   "metadata": {},
   "outputs": [],
   "source": [
    "timing = timing.reset_index(drop=True)"
   ]
  },
  {
   "cell_type": "code",
   "execution_count": 102,
   "id": "894695d5",
   "metadata": {},
   "outputs": [
    {
     "data": {
      "text/plain": [
       "step\n",
       "Done                          0.000579\n",
       "Start concatenate            12.680211\n",
       "Start generate_embeddings     0.002377\n",
       "Start preprocess_pdb          0.000000\n",
       "Start preprocess_traj        21.694879\n",
       "Start savetxt                 0.000078\n",
       "Start unlink h5               2.805800\n",
       "Start write_h5                0.000087\n",
       "Name: elapsed_time, dtype: float64"
      ]
     },
     "execution_count": 102,
     "metadata": {},
     "output_type": "execute_result"
    }
   ],
   "source": [
    "df.groupby('step')['elapsed_time'].mean()"
   ]
  },
  {
   "cell_type": "code",
   "execution_count": 103,
   "id": "5305baa4",
   "metadata": {},
   "outputs": [
    {
     "data": {
      "text/plain": [
       "21.694879232112985"
      ]
     },
     "execution_count": 103,
     "metadata": {},
     "output_type": "execute_result"
    }
   ],
   "source": [
    "timing['elapsed_time'].mean()"
   ]
  },
  {
   "cell_type": "code",
   "execution_count": 106,
   "id": "072ba1b9",
   "metadata": {},
   "outputs": [
    {
     "data": {
      "text/plain": [
       "<AxesSubplot:ylabel='Frequency'>"
      ]
     },
     "execution_count": 106,
     "metadata": {},
     "output_type": "execute_result"
    },
    {
     "data": {
      "image/png": "[encoded data removed]",
      "text/plain": [
       "<Figure size 432x288 with 1 Axes>"
      ]
     },
     "metadata": {
      "needs_background": "light"
     },
     "output_type": "display_data"
    }
   ],
   "source": [
    "timing['elapsed_time'].plot.hist(bins=102, alpha=0.5)"
   ]
  },
  {
   "cell_type": "code",
   "execution_count": 105,
   "id": "e6aa0411",
   "metadata": {},
   "outputs": [
    {
     "data": {
      "text/plain": [
       "<AxesSubplot:>"
      ]
     },
     "execution_count": 105,
     "metadata": {},
     "output_type": "execute_result"
    },
    {
     "data": {
      "image/png": "[encoded data removed]",
      "text/plain": [
       "<Figure size 432x288 with 1 Axes>"
      ]
     },
     "metadata": {
      "needs_background": "light"
     },
     "output_type": "display_data"
    }
   ],
   "source": [
    "timing['elapsed_time'].plot.box()"
   ]
  },
  {
   "cell_type": "markdown",
   "id": "0d78dc4e",
   "metadata": {},
   "source": [
    "# amber performance"
   ]
  },
  {
   "cell_type": "code",
   "execution_count": 148,
   "id": "9568f691",
   "metadata": {},
   "outputs": [],
   "source": [
    "df_amber=pd.read_csv('amber_perf.csv',names=['id','ns/day','ctime'], header=1)"
   ]
  },
  {
   "cell_type": "code",
   "execution_count": 142,
   "id": "a91d38ec",
   "metadata": {},
   "outputs": [
    {
     "data": {
      "text/html": [
       "<div>\n",
       "<style scoped>\n",
       "    .dataframe tbody tr th:only-of-type {\n",
       "        vertical-align: middle;\n",
       "    }\n",
       "\n",
       "    .dataframe tbody tr th {\n",
       "        vertical-align: top;\n",
       "    }\n",
       "\n",
       "    .dataframe thead th {\n",
       "        text-align: right;\n",
       "    }\n",
       "</style>\n",
       "<table border=\"1\" class=\"dataframe\">\n",
       "  <thead>\n",
       "    <tr style=\"text-align: right;\">\n",
       "      <th></th>\n",
       "      <th>id</th>\n",
       "      <th>ns/day</th>\n",
       "      <th>ctime</th>\n",
       "    </tr>\n",
       "  </thead>\n",
       "  <tbody>\n",
       "    <tr>\n",
       "      <th>0</th>\n",
       "      <td>005916</td>\n",
       "      <td>33.85</td>\n",
       "      <td>265 seconds 0.07 hours</td>\n",
       "    </tr>\n",
       "    <tr>\n",
       "      <th>1</th>\n",
       "      <td>005635</td>\n",
       "      <td>34.03</td>\n",
       "      <td>263 seconds 0.07 hours</td>\n",
       "    </tr>\n",
       "    <tr>\n",
       "      <th>2</th>\n",
       "      <td>000799</td>\n",
       "      <td>33.84</td>\n",
       "      <td>265 seconds 0.07 hours</td>\n",
       "    </tr>\n",
       "    <tr>\n",
       "      <th>3</th>\n",
       "      <td>003647</td>\n",
       "      <td>33.65</td>\n",
       "      <td>266 seconds 0.07 hours</td>\n",
       "    </tr>\n",
       "    <tr>\n",
       "      <th>4</th>\n",
       "      <td>005682</td>\n",
       "      <td>33.87</td>\n",
       "      <td>265 seconds 0.07 hours</td>\n",
       "    </tr>\n",
       "    <tr>\n",
       "      <th>...</th>\n",
       "      <td>...</td>\n",
       "      <td>...</td>\n",
       "      <td>...</td>\n",
       "    </tr>\n",
       "    <tr>\n",
       "      <th>5026</th>\n",
       "      <td>001208</td>\n",
       "      <td>34.04</td>\n",
       "      <td>262 seconds 0.07 hours</td>\n",
       "    </tr>\n",
       "    <tr>\n",
       "      <th>5027</th>\n",
       "      <td>004122</td>\n",
       "      <td>33.82</td>\n",
       "      <td>264 seconds 0.07 hours</td>\n",
       "    </tr>\n",
       "    <tr>\n",
       "      <th>5028</th>\n",
       "      <td>001060</td>\n",
       "      <td>33.68</td>\n",
       "      <td>265 seconds 0.07 hours</td>\n",
       "    </tr>\n",
       "    <tr>\n",
       "      <th>5029</th>\n",
       "      <td>000302</td>\n",
       "      <td>33.99</td>\n",
       "      <td>263 seconds 0.07 hours</td>\n",
       "    </tr>\n",
       "    <tr>\n",
       "      <th>5030</th>\n",
       "      <td>000154</td>\n",
       "      <td>33.87</td>\n",
       "      <td>264 seconds 0.07 hours</td>\n",
       "    </tr>\n",
       "  </tbody>\n",
       "</table>\n",
       "<p>5031 rows × 3 columns</p>\n",
       "</div>"
      ],
      "text/plain": [
       "          id  ns/day                    ctime\n",
       "0     005916   33.85   265 seconds 0.07 hours\n",
       "1     005635   34.03   263 seconds 0.07 hours\n",
       "2     000799   33.84   265 seconds 0.07 hours\n",
       "3     003647   33.65   266 seconds 0.07 hours\n",
       "4     005682   33.87   265 seconds 0.07 hours\n",
       "...      ...     ...                      ...\n",
       "5026  001208   34.04   262 seconds 0.07 hours\n",
       "5027  004122   33.82   264 seconds 0.07 hours\n",
       "5028  001060   33.68   265 seconds 0.07 hours\n",
       "5029  000302   33.99   263 seconds 0.07 hours\n",
       "5030  000154   33.87   264 seconds 0.07 hours\n",
       "\n",
       "[5031 rows x 3 columns]"
      ]
     },
     "execution_count": 142,
     "metadata": {},
     "output_type": "execute_result"
    }
   ],
   "source": [
    "df_amber"
   ]
  },
  {
   "cell_type": "code",
   "execution_count": 143,
   "id": "fbd8672a",
   "metadata": {},
   "outputs": [
    {
     "data": {
      "text/plain": [
       "21.694879232112985"
      ]
     },
     "execution_count": 143,
     "metadata": {},
     "output_type": "execute_result"
    }
   ],
   "source": [
    "timing['elapsed_time'].mean()"
   ]
  },
  {
   "cell_type": "code",
   "execution_count": 144,
   "id": "2ab285f5",
   "metadata": {},
   "outputs": [],
   "source": [
    "df_timing = df_amber.reset_index(drop=True)"
   ]
  },
  {
   "cell_type": "code",
   "execution_count": 145,
   "id": "ecb77b2a",
   "metadata": {},
   "outputs": [
    {
     "data": {
      "text/html": [
       "<div>\n",
       "<style scoped>\n",
       "    .dataframe tbody tr th:only-of-type {\n",
       "        vertical-align: middle;\n",
       "    }\n",
       "\n",
       "    .dataframe tbody tr th {\n",
       "        vertical-align: top;\n",
       "    }\n",
       "\n",
       "    .dataframe thead th {\n",
       "        text-align: right;\n",
       "    }\n",
       "</style>\n",
       "<table border=\"1\" class=\"dataframe\">\n",
       "  <thead>\n",
       "    <tr style=\"text-align: right;\">\n",
       "      <th></th>\n",
       "      <th>id</th>\n",
       "      <th>ns/day</th>\n",
       "      <th>ctime</th>\n",
       "    </tr>\n",
       "  </thead>\n",
       "  <tbody>\n",
       "    <tr>\n",
       "      <th>0</th>\n",
       "      <td>005916</td>\n",
       "      <td>33.85</td>\n",
       "      <td>265 seconds 0.07 hours</td>\n",
       "    </tr>\n",
       "    <tr>\n",
       "      <th>1</th>\n",
       "      <td>005635</td>\n",
       "      <td>34.03</td>\n",
       "      <td>263 seconds 0.07 hours</td>\n",
       "    </tr>\n",
       "    <tr>\n",
       "      <th>2</th>\n",
       "      <td>000799</td>\n",
       "      <td>33.84</td>\n",
       "      <td>265 seconds 0.07 hours</td>\n",
       "    </tr>\n",
       "    <tr>\n",
       "      <th>3</th>\n",
       "      <td>003647</td>\n",
       "      <td>33.65</td>\n",
       "      <td>266 seconds 0.07 hours</td>\n",
       "    </tr>\n",
       "    <tr>\n",
       "      <th>4</th>\n",
       "      <td>005682</td>\n",
       "      <td>33.87</td>\n",
       "      <td>265 seconds 0.07 hours</td>\n",
       "    </tr>\n",
       "    <tr>\n",
       "      <th>...</th>\n",
       "      <td>...</td>\n",
       "      <td>...</td>\n",
       "      <td>...</td>\n",
       "    </tr>\n",
       "    <tr>\n",
       "      <th>5026</th>\n",
       "      <td>001208</td>\n",
       "      <td>34.04</td>\n",
       "      <td>262 seconds 0.07 hours</td>\n",
       "    </tr>\n",
       "    <tr>\n",
       "      <th>5027</th>\n",
       "      <td>004122</td>\n",
       "      <td>33.82</td>\n",
       "      <td>264 seconds 0.07 hours</td>\n",
       "    </tr>\n",
       "    <tr>\n",
       "      <th>5028</th>\n",
       "      <td>001060</td>\n",
       "      <td>33.68</td>\n",
       "      <td>265 seconds 0.07 hours</td>\n",
       "    </tr>\n",
       "    <tr>\n",
       "      <th>5029</th>\n",
       "      <td>000302</td>\n",
       "      <td>33.99</td>\n",
       "      <td>263 seconds 0.07 hours</td>\n",
       "    </tr>\n",
       "    <tr>\n",
       "      <th>5030</th>\n",
       "      <td>000154</td>\n",
       "      <td>33.87</td>\n",
       "      <td>264 seconds 0.07 hours</td>\n",
       "    </tr>\n",
       "  </tbody>\n",
       "</table>\n",
       "<p>5031 rows × 3 columns</p>\n",
       "</div>"
      ],
      "text/plain": [
       "          id  ns/day                    ctime\n",
       "0     005916   33.85   265 seconds 0.07 hours\n",
       "1     005635   34.03   263 seconds 0.07 hours\n",
       "2     000799   33.84   265 seconds 0.07 hours\n",
       "3     003647   33.65   266 seconds 0.07 hours\n",
       "4     005682   33.87   265 seconds 0.07 hours\n",
       "...      ...     ...                      ...\n",
       "5026  001208   34.04   262 seconds 0.07 hours\n",
       "5027  004122   33.82   264 seconds 0.07 hours\n",
       "5028  001060   33.68   265 seconds 0.07 hours\n",
       "5029  000302   33.99   263 seconds 0.07 hours\n",
       "5030  000154   33.87   264 seconds 0.07 hours\n",
       "\n",
       "[5031 rows x 3 columns]"
      ]
     },
     "execution_count": 145,
     "metadata": {},
     "output_type": "execute_result"
    }
   ],
   "source": [
    "df_timing"
   ]
  },
  {
   "cell_type": "code",
   "execution_count": 139,
   "id": "67489eeb",
   "metadata": {},
   "outputs": [
    {
     "data": {
      "text/plain": [
       "0        ns/day\n",
       "1         33.52\n",
       "2         33.85\n",
       "3         34.03\n",
       "4         33.84\n",
       "         ...   \n",
       "5028      34.04\n",
       "5029      33.82\n",
       "5030      33.68\n",
       "5031      33.99\n",
       "5032      33.87\n",
       "Name: ns/day, Length: 5033, dtype: object"
      ]
     },
     "execution_count": 139,
     "metadata": {},
     "output_type": "execute_result"
    }
   ],
   "source": [
    "df_timing['ns/day']"
   ]
  },
  {
   "cell_type": "code",
   "execution_count": 146,
   "id": "d9edf81b",
   "metadata": {},
   "outputs": [
    {
     "data": {
      "text/plain": [
       "33.84858874975154"
      ]
     },
     "execution_count": 146,
     "metadata": {},
     "output_type": "execute_result"
    }
   ],
   "source": [
    "df_timing['ns/day'].mean()"
   ]
  },
  {
   "cell_type": "code",
   "execution_count": 147,
   "id": "ff8a5006",
   "metadata": {},
   "outputs": [
    {
     "data": {
      "text/plain": [
       "<AxesSubplot:>"
      ]
     },
     "execution_count": 147,
     "metadata": {},
     "output_type": "execute_result"
    },
    {
     "data": {
      "image/png": "[encoded data removed]",
      "text/plain": [
       "<Figure size 432x288 with 1 Axes>"
      ]
     },
     "metadata": {
      "needs_background": "light"
     },
     "output_type": "display_data"
    }
   ],
   "source": [
    "df_timing['ns/day'].plot.box()"
   ]
  }
 ],
 "metadata": {
  "kernelspec": {
   "display_name": "Python 3",
   "language": "python",
   "name": "python3"
  },
  "language_info": {
   "codemirror_mode": {
    "name": "ipython",
    "version": 3
   },
   "file_extension": ".py",
   "mimetype": "text/x-python",
   "name": "python",
   "nbconvert_exporter": "python",
   "pygments_lexer": "ipython3",
   "version": "3.6.13"
  }
 },
 "nbformat": 4,
 "nbformat_minor": 5
}
