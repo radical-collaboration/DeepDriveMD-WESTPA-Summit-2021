{
 "cells": [
  {
   "cell_type": "code",
   "execution_count": 218,
   "id": "52466fab",
   "metadata": {},
   "outputs": [],
   "source": [
    "import pandas as pd\n",
    "%matplotlib inline\n",
    "import matplotlib.pyplot as plt\n",
    "from IPython.core.display import Math\n",
    "import datetime"
   ]
  },
  {
   "cell_type": "markdown",
   "id": "cc438446",
   "metadata": {},
   "source": [
    "# Inference (deepdrivemd) performance"
   ]
  },
  {
   "cell_type": "code",
   "execution_count": 273,
   "id": "01325ba3",
   "metadata": {},
   "outputs": [],
   "source": [
    "df_ddmd = pd.read_csv('inference.csv',names=['id','step','start_time','elapsed_time'])"
   ]
  },
  {
   "cell_type": "code",
   "execution_count": 274,
   "id": "bb00389a",
   "metadata": {},
   "outputs": [
    {
     "data": {
      "text/html": [
       "<div>\n",
       "<style scoped>\n",
       "    .dataframe tbody tr th:only-of-type {\n",
       "        vertical-align: middle;\n",
       "    }\n",
       "\n",
       "    .dataframe tbody tr th {\n",
       "        vertical-align: top;\n",
       "    }\n",
       "\n",
       "    .dataframe thead th {\n",
       "        text-align: right;\n",
       "    }\n",
       "</style>\n",
       "<table border=\"1\" class=\"dataframe\">\n",
       "  <thead>\n",
       "    <tr style=\"text-align: right;\">\n",
       "      <th></th>\n",
       "      <th>id</th>\n",
       "      <th>step</th>\n",
       "      <th>start_time</th>\n",
       "      <th>elapsed_time</th>\n",
       "    </tr>\n",
       "  </thead>\n",
       "  <tbody>\n",
       "    <tr>\n",
       "      <th>0</th>\n",
       "      <td>0</td>\n",
       "      <td>Start preprocess_pdb</td>\n",
       "      <td>1.633661e+09</td>\n",
       "      <td>0.000000</td>\n",
       "    </tr>\n",
       "    <tr>\n",
       "      <th>1</th>\n",
       "      <td>0</td>\n",
       "      <td>Start preprocess_traj</td>\n",
       "      <td>1.633662e+09</td>\n",
       "      <td>17.597987</td>\n",
       "    </tr>\n",
       "    <tr>\n",
       "      <th>2</th>\n",
       "      <td>0</td>\n",
       "      <td>Start concatenate</td>\n",
       "      <td>1.633662e+09</td>\n",
       "      <td>12.332462</td>\n",
       "    </tr>\n",
       "    <tr>\n",
       "      <th>3</th>\n",
       "      <td>0</td>\n",
       "      <td>Start write_h5</td>\n",
       "      <td>1.633662e+09</td>\n",
       "      <td>0.000073</td>\n",
       "    </tr>\n",
       "    <tr>\n",
       "      <th>4</th>\n",
       "      <td>0</td>\n",
       "      <td>Start generate_embeddings</td>\n",
       "      <td>1.633662e+09</td>\n",
       "      <td>0.001950</td>\n",
       "    </tr>\n",
       "    <tr>\n",
       "      <th>...</th>\n",
       "      <td>...</td>\n",
       "      <td>...</td>\n",
       "      <td>...</td>\n",
       "      <td>...</td>\n",
       "    </tr>\n",
       "    <tr>\n",
       "      <th>48947</th>\n",
       "      <td>6119</td>\n",
       "      <td>Start write_h5</td>\n",
       "      <td>1.633662e+09</td>\n",
       "      <td>0.000060</td>\n",
       "    </tr>\n",
       "    <tr>\n",
       "      <th>48948</th>\n",
       "      <td>6119</td>\n",
       "      <td>Start generate_embeddings</td>\n",
       "      <td>1.633662e+09</td>\n",
       "      <td>0.001772</td>\n",
       "    </tr>\n",
       "    <tr>\n",
       "      <th>48949</th>\n",
       "      <td>6119</td>\n",
       "      <td>Start unlink h5</td>\n",
       "      <td>1.633662e+09</td>\n",
       "      <td>2.309940</td>\n",
       "    </tr>\n",
       "    <tr>\n",
       "      <th>48950</th>\n",
       "      <td>6119</td>\n",
       "      <td>Start savetxt</td>\n",
       "      <td>1.633662e+09</td>\n",
       "      <td>0.000058</td>\n",
       "    </tr>\n",
       "    <tr>\n",
       "      <th>48951</th>\n",
       "      <td>6119</td>\n",
       "      <td>Done</td>\n",
       "      <td>1.633662e+09</td>\n",
       "      <td>0.000454</td>\n",
       "    </tr>\n",
       "  </tbody>\n",
       "</table>\n",
       "<p>48952 rows × 4 columns</p>\n",
       "</div>"
      ],
      "text/plain": [
       "         id                       step    start_time  elapsed_time\n",
       "0         0       Start preprocess_pdb  1.633661e+09      0.000000\n",
       "1         0      Start preprocess_traj  1.633662e+09     17.597987\n",
       "2         0          Start concatenate  1.633662e+09     12.332462\n",
       "3         0             Start write_h5  1.633662e+09      0.000073\n",
       "4         0  Start generate_embeddings  1.633662e+09      0.001950\n",
       "...     ...                        ...           ...           ...\n",
       "48947  6119             Start write_h5  1.633662e+09      0.000060\n",
       "48948  6119  Start generate_embeddings  1.633662e+09      0.001772\n",
       "48949  6119            Start unlink h5  1.633662e+09      2.309940\n",
       "48950  6119              Start savetxt  1.633662e+09      0.000058\n",
       "48951  6119                       Done  1.633662e+09      0.000454\n",
       "\n",
       "[48952 rows x 4 columns]"
      ]
     },
     "execution_count": 274,
     "metadata": {},
     "output_type": "execute_result"
    }
   ],
   "source": [
    "df_ddmd"
   ]
  },
  {
   "cell_type": "code",
   "execution_count": 167,
   "id": "be7d6ba9",
   "metadata": {},
   "outputs": [
    {
     "data": {
      "text/plain": [
       "(1633662204.077366, 1633661437.0865073)"
      ]
     },
     "execution_count": 167,
     "metadata": {},
     "output_type": "execute_result"
    }
   ],
   "source": [
    "max(df_ddmd['start_time']),min(df_ddmd['start_time'])"
   ]
  },
  {
   "cell_type": "code",
   "execution_count": 259,
   "id": "97e0c93b",
   "metadata": {},
   "outputs": [],
   "source": [
    "timing = df_ddmd[df_ddmd['step']=='Start preprocess_traj']"
   ]
  },
  {
   "cell_type": "code",
   "execution_count": 275,
   "id": "9b840bc3",
   "metadata": {},
   "outputs": [],
   "source": [
    "timing = timing.reset_index(drop=True)"
   ]
  },
  {
   "cell_type": "code",
   "execution_count": 264,
   "id": "d2dfde45",
   "metadata": {},
   "outputs": [
    {
     "data": {
      "text/plain": [
       "step\n",
       "Done                          0.000579\n",
       "Start concatenate            12.680211\n",
       "Start generate_embeddings     0.002377\n",
       "Start preprocess_pdb          0.000000\n",
       "Start preprocess_traj        21.694879\n",
       "Start savetxt                 0.000078\n",
       "Start unlink h5               2.805800\n",
       "Start write_h5                0.000087\n",
       "Name: elapsed_time, dtype: float64"
      ]
     },
     "execution_count": 264,
     "metadata": {},
     "output_type": "execute_result"
    }
   ],
   "source": [
    "df_ddmd.groupby('step')['elapsed_time'].mean()"
   ]
  },
  {
   "cell_type": "markdown",
   "id": "e55a9f50",
   "metadata": {},
   "source": [
    "## Time to exection in average"
   ]
  },
  {
   "cell_type": "code",
   "execution_count": 266,
   "id": "55fec45c",
   "metadata": {},
   "outputs": [
    {
     "name": "stdout",
     "output_type": "stream",
     "text": [
      "21.69±4.30 s\n"
     ]
    }
   ],
   "source": [
    "print(\"{:.02f}{}{:.02f} s\".format(timing['elapsed_time'].mean(),u\"\\u00B1\", timing['elapsed_time'].std()))"
   ]
  },
  {
   "cell_type": "code",
   "execution_count": 278,
   "id": "b71cfd8b",
   "metadata": {},
   "outputs": [
    {
     "data": {
      "text/plain": [
       "Text(0.5, 0, 'Replica Id')"
      ]
     },
     "execution_count": 278,
     "metadata": {},
     "output_type": "execute_result"
    },
    {
     "data": {
      "image/png": "[encoded data removed]",
      "text/plain": [
       "<Figure size 432x288 with 1 Axes>"
      ]
     },
     "metadata": {
      "needs_background": "light"
     },
     "output_type": "display_data"
    }
   ],
   "source": [
    "ax=timing['elapsed_time'].plot(linewidth=0.1)\n",
    "ax.set_ylabel('Elapsed time (s)')\n",
    "ax.set_xlabel('Replica Id')"
   ]
  },
  {
   "cell_type": "code",
   "execution_count": 282,
   "id": "70578cfa",
   "metadata": {},
   "outputs": [
    {
     "data": {
      "text/plain": [
       "Text(0.5, 0, 'Elapsed time (s)')"
      ]
     },
     "execution_count": 282,
     "metadata": {},
     "output_type": "execute_result"
    },
    {
     "data": {
      "image/png": "[encoded data removed]",
      "text/plain": [
       "<Figure size 432x288 with 1 Axes>"
      ]
     },
     "metadata": {
      "needs_background": "light"
     },
     "output_type": "display_data"
    }
   ],
   "source": [
    "ax = timing['elapsed_time'].plot.hist(bins=102, alpha=0.5)\n",
    "ax.set_ylabel('Counts')\n",
    "ax.set_xlabel('Elapsed time (s)')"
   ]
  },
  {
   "cell_type": "code",
   "execution_count": 105,
   "id": "4f1c6613",
   "metadata": {},
   "outputs": [
    {
     "data": {
      "text/plain": [
       "<AxesSubplot:>"
      ]
     },
     "execution_count": 105,
     "metadata": {},
     "output_type": "execute_result"
    },
    {
     "data": {
      "image/png": "[encoded data removed]",
      "text/plain": [
       "<Figure size 432x288 with 1 Axes>"
      ]
     },
     "metadata": {
      "needs_background": "light"
     },
     "output_type": "display_data"
    }
   ],
   "source": [
    "timing['elapsed_time'].plot.box()"
   ]
  },
  {
   "cell_type": "markdown",
   "id": "bb9bd415",
   "metadata": {},
   "source": [
    "# WESTPA performance"
   ]
  },
  {
   "cell_type": "code",
   "execution_count": 284,
   "id": "bcf468be",
   "metadata": {},
   "outputs": [],
   "source": [
    "df_westpa=pd.read_csv('westpa_stats.csv',names=['id','ns/day','stime','elapsed'])\n",
    "df_westpa['stime'] = pd.to_datetime(df_westpa['stime'])"
   ]
  },
  {
   "cell_type": "code",
   "execution_count": 241,
   "id": "db93a43c",
   "metadata": {},
   "outputs": [
    {
     "data": {
      "text/html": [
       "<div>\n",
       "<style scoped>\n",
       "    .dataframe tbody tr th:only-of-type {\n",
       "        vertical-align: middle;\n",
       "    }\n",
       "\n",
       "    .dataframe tbody tr th {\n",
       "        vertical-align: top;\n",
       "    }\n",
       "\n",
       "    .dataframe thead th {\n",
       "        text-align: right;\n",
       "    }\n",
       "</style>\n",
       "<table border=\"1\" class=\"dataframe\">\n",
       "  <thead>\n",
       "    <tr style=\"text-align: right;\">\n",
       "      <th></th>\n",
       "      <th>id</th>\n",
       "      <th>ns/day</th>\n",
       "      <th>stime</th>\n",
       "      <th>elapsed</th>\n",
       "    </tr>\n",
       "  </thead>\n",
       "  <tbody>\n",
       "    <tr>\n",
       "      <th>0</th>\n",
       "      <td>001689</td>\n",
       "      <td>33.52</td>\n",
       "      <td>2021-10-08 22:48:22</td>\n",
       "      <td>267.0</td>\n",
       "    </tr>\n",
       "    <tr>\n",
       "      <th>1</th>\n",
       "      <td>005916</td>\n",
       "      <td>33.85</td>\n",
       "      <td>2021-10-08 22:49:24</td>\n",
       "      <td>265.0</td>\n",
       "    </tr>\n",
       "    <tr>\n",
       "      <th>2</th>\n",
       "      <td>005635</td>\n",
       "      <td>34.03</td>\n",
       "      <td>2021-10-08 22:49:24</td>\n",
       "      <td>263.0</td>\n",
       "    </tr>\n",
       "    <tr>\n",
       "      <th>3</th>\n",
       "      <td>000799</td>\n",
       "      <td>33.84</td>\n",
       "      <td>2021-10-08 22:49:24</td>\n",
       "      <td>265.0</td>\n",
       "    </tr>\n",
       "    <tr>\n",
       "      <th>4</th>\n",
       "      <td>003647</td>\n",
       "      <td>33.65</td>\n",
       "      <td>2021-10-08 22:48:22</td>\n",
       "      <td>266.0</td>\n",
       "    </tr>\n",
       "    <tr>\n",
       "      <th>...</th>\n",
       "      <td>...</td>\n",
       "      <td>...</td>\n",
       "      <td>...</td>\n",
       "      <td>...</td>\n",
       "    </tr>\n",
       "    <tr>\n",
       "      <th>5027</th>\n",
       "      <td>001208</td>\n",
       "      <td>34.04</td>\n",
       "      <td>2021-10-08 22:48:54</td>\n",
       "      <td>262.0</td>\n",
       "    </tr>\n",
       "    <tr>\n",
       "      <th>5028</th>\n",
       "      <td>004122</td>\n",
       "      <td>33.82</td>\n",
       "      <td>2021-10-08 22:50:26</td>\n",
       "      <td>264.0</td>\n",
       "    </tr>\n",
       "    <tr>\n",
       "      <th>5029</th>\n",
       "      <td>001060</td>\n",
       "      <td>33.68</td>\n",
       "      <td>2021-10-08 22:48:57</td>\n",
       "      <td>265.0</td>\n",
       "    </tr>\n",
       "    <tr>\n",
       "      <th>5030</th>\n",
       "      <td>000302</td>\n",
       "      <td>33.99</td>\n",
       "      <td>2021-10-08 22:48:16</td>\n",
       "      <td>263.0</td>\n",
       "    </tr>\n",
       "    <tr>\n",
       "      <th>5031</th>\n",
       "      <td>000154</td>\n",
       "      <td>33.87</td>\n",
       "      <td>2021-10-08 22:48:54</td>\n",
       "      <td>264.0</td>\n",
       "    </tr>\n",
       "  </tbody>\n",
       "</table>\n",
       "<p>5032 rows × 4 columns</p>\n",
       "</div>"
      ],
      "text/plain": [
       "          id  ns/day               stime  elapsed\n",
       "0     001689   33.52 2021-10-08 22:48:22    267.0\n",
       "1     005916   33.85 2021-10-08 22:49:24    265.0\n",
       "2     005635   34.03 2021-10-08 22:49:24    263.0\n",
       "3     000799   33.84 2021-10-08 22:49:24    265.0\n",
       "4     003647   33.65 2021-10-08 22:48:22    266.0\n",
       "...      ...     ...                 ...      ...\n",
       "5027  001208   34.04 2021-10-08 22:48:54    262.0\n",
       "5028  004122   33.82 2021-10-08 22:50:26    264.0\n",
       "5029  001060   33.68 2021-10-08 22:48:57    265.0\n",
       "5030  000302   33.99 2021-10-08 22:48:16    263.0\n",
       "5031  000154   33.87 2021-10-08 22:48:54    264.0\n",
       "\n",
       "[5032 rows x 4 columns]"
      ]
     },
     "execution_count": 241,
     "metadata": {},
     "output_type": "execute_result"
    }
   ],
   "source": [
    "df_westpa"
   ]
  },
  {
   "cell_type": "markdown",
   "id": "5ed9b362",
   "metadata": {},
   "source": [
    "# Amber performance"
   ]
  },
  {
   "cell_type": "code",
   "execution_count": 285,
   "id": "bd9eb2e2",
   "metadata": {},
   "outputs": [
    {
     "name": "stdout",
     "output_type": "stream",
     "text": [
      "33.85±0.19 ns/day\n"
     ]
    }
   ],
   "source": [
    "print(\"{:.02f}{}{:.02f} ns/day\".format(df_westpa['ns/day'].mean(),u\"\\u00B1\", df_westpa['ns/day'].std()))"
   ]
  },
  {
   "cell_type": "markdown",
   "id": "44011608",
   "metadata": {},
   "source": [
    "## Time to execution in average"
   ]
  },
  {
   "cell_type": "code",
   "execution_count": 286,
   "id": "2f42a46b",
   "metadata": {},
   "outputs": [
    {
     "name": "stdout",
     "output_type": "stream",
     "text": [
      "263.96±1.63 s\n"
     ]
    }
   ],
   "source": [
    "print(\"{:.02f}{}{:.02f} s\".format(df_westpa['elapsed'].mean(),u\"\\u00B1\", df_westpa['elapsed'].std()))"
   ]
  },
  {
   "cell_type": "markdown",
   "id": "4f3a7006",
   "metadata": {},
   "source": [
    "## Total time to execution"
   ]
  },
  {
   "cell_type": "code",
   "execution_count": 287,
   "id": "007c135e",
   "metadata": {},
   "outputs": [
    {
     "name": "stdout",
     "output_type": "stream",
     "text": [
      "589.0s\n"
     ]
    }
   ],
   "source": [
    "last_tx = df_westpa[df_westpa['stime']==max(df_westpa['stime'])]['elapsed']\n",
    "dif = (max(df_westpa['stime'])-min(df_westpa['stime'])).total_seconds()\n",
    "print(\"{}s\".format(dif + float(last_tx)))"
   ]
  },
  {
   "cell_type": "code",
   "execution_count": 288,
   "id": "b34d2c5c",
   "metadata": {},
   "outputs": [
    {
     "data": {
      "text/plain": [
       "<AxesSubplot:>"
      ]
     },
     "execution_count": 288,
     "metadata": {},
     "output_type": "execute_result"
    },
    {
     "data": {
      "image/png": "[encoded data removed]",
      "text/plain": [
       "<Figure size 432x288 with 1 Axes>"
      ]
     },
     "metadata": {
      "needs_background": "light"
     },
     "output_type": "display_data"
    }
   ],
   "source": [
    "df_westpa['ns/day'].plot.box()"
   ]
  },
  {
   "cell_type": "code",
   "execution_count": 289,
   "id": "41514809",
   "metadata": {},
   "outputs": [
    {
     "data": {
      "text/plain": [
       "<AxesSubplot:>"
      ]
     },
     "execution_count": 289,
     "metadata": {},
     "output_type": "execute_result"
    },
    {
     "data": {
      "image/png": "[encoded data removed]",
      "text/plain": [
       "<Figure size 432x288 with 1 Axes>"
      ]
     },
     "metadata": {
      "needs_background": "light"
     },
     "output_type": "display_data"
    }
   ],
   "source": [
    "df_westpa['elapsed'].plot.box()"
   ]
  }
 ],
 "metadata": {
  "kernelspec": {
   "display_name": "Python 3",
   "language": "python",
   "name": "python3"
  },
  "language_info": {
   "codemirror_mode": {
    "name": "ipython",
    "version": 3
   },
   "file_extension": ".py",
   "mimetype": "text/x-python",
   "name": "python",
   "nbconvert_exporter": "python",
   "pygments_lexer": "ipython3",
   "version": "3.6.13"
  }
 },
 "nbformat": 4,
 "nbformat_minor": 5
}
